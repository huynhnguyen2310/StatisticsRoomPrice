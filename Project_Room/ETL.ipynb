{
 "cells": [
  {
   "cell_type": "code",
   "execution_count": 1,
   "metadata": {},
   "outputs": [],
   "source": [
    "import pandas as pd\n",
    "from sqlalchemy import create_engine"
   ]
  },
  {
   "cell_type": "code",
   "execution_count": 47,
   "metadata": {},
   "outputs": [
    {
     "name": "stdout",
     "output_type": "stream",
     "text": [
      "   customer_id   full_name               email        phone  \\\n",
      "0            1  Customer 1  customer1@mail.com  84987769332   \n",
      "1            2  Customer 2  customer2@mail.com  84995781527   \n",
      "2            3  Customer 3  customer3@mail.com  84969411145   \n",
      "3            4  Customer 4  customer4@mail.com  84917802932   \n",
      "4            5  Customer 5  customer5@mail.com  84992266036   \n",
      "\n",
      "                   created_at  \n",
      "0  2023-08-08 03:27:22.206023  \n",
      "1  2023-11-11 03:27:22.206033  \n",
      "2  2023-10-07 03:27:22.206035  \n",
      "3  2023-08-05 03:27:22.206037  \n",
      "4  2024-06-02 03:27:22.206039  \n",
      "\n",
      "customer_id     int64\n",
      "full_name      object\n",
      "email          object\n",
      "phone           int64\n",
      "created_at     object\n",
      "dtype: object\n",
      "\n",
      "customer_id    0\n",
      "full_name      0\n",
      "email          0\n",
      "phone          0\n",
      "created_at     0\n",
      "dtype: int64\n"
     ]
    }
   ],
   "source": [
    "data = pd.read_csv(r'D:\\Project_Room\\Data\\Customers.csv')\n",
    "print(f'{data.head()}\\n')\n",
    "print(f'{data.dtypes}\\n')\n",
    "print(data.isnull().sum())\n"
   ]
  },
  {
   "cell_type": "code",
   "execution_count": 16,
   "metadata": {},
   "outputs": [],
   "source": [
    "data['created_at'] = pd.to_datetime(data['created_at'])\n"
   ]
  },
  {
   "cell_type": "code",
   "execution_count": 25,
   "metadata": {},
   "outputs": [
    {
     "name": "stdout",
     "output_type": "stream",
     "text": [
      "   room_id room_number room_type  price_per_night     status\n",
      "0        1        R101  Standard               78  Available\n",
      "1        2        R102     Suite               55     Booked\n",
      "2        3        R103    Deluxe              461  Available\n",
      "3        4        R104    Deluxe              184     Booked\n",
      "4        5        R105     Suite               88  Available\n",
      "\n",
      "room_id            0\n",
      "room_number        0\n",
      "room_type          0\n",
      "price_per_night    0\n",
      "status             0\n",
      "dtype: int64\n",
      "\n",
      "room_id             int64\n",
      "room_number        object\n",
      "room_type          object\n",
      "price_per_night     int64\n",
      "status             object\n",
      "dtype: object\n"
     ]
    }
   ],
   "source": [
    "room = pd.read_csv(r\"D:\\Project_Room\\Data\\Rooms.csv\")\n",
    "print(f'{room.head()}\\n')\n",
    "print(f'{room.isnull().sum()}\\n')\n",
    "print(room.dtypes)"
   ]
  },
  {
   "cell_type": "code",
   "execution_count": 27,
   "metadata": {},
   "outputs": [
    {
     "name": "stdout",
     "output_type": "stream",
     "text": [
      "   booking_id  customer_id  room_id    check_in   check_out     status  \\\n",
      "0           1          198      165  2023-12-26  2024-01-02  Cancelled   \n",
      "1           2          466       32  2023-09-02  2023-09-12    Pending   \n",
      "2           3          131       15  2024-06-03  2024-06-07    Pending   \n",
      "3           4          138       17  2023-05-26  2023-05-30  Cancelled   \n",
      "4           5           50      178  2024-04-19  2024-04-28  Confirmed   \n",
      "\n",
      "   created_at  \n",
      "0  2023-12-26  \n",
      "1  2023-09-02  \n",
      "2  2024-06-03  \n",
      "3  2023-05-26  \n",
      "4  2024-04-19  \n",
      "\n",
      "booking_id     0\n",
      "customer_id    0\n",
      "room_id        0\n",
      "check_in       0\n",
      "check_out      0\n",
      "status         0\n",
      "created_at     0\n",
      "dtype: int64\n",
      "\n",
      "booking_id      int64\n",
      "customer_id     int64\n",
      "room_id         int64\n",
      "check_in       object\n",
      "check_out      object\n",
      "status         object\n",
      "created_at     object\n",
      "dtype: object\n"
     ]
    },
    {
     "name": "stderr",
     "output_type": "stream",
     "text": [
      "<>:1: SyntaxWarning: invalid escape sequence '\\P'\n",
      "<>:1: SyntaxWarning: invalid escape sequence '\\P'\n",
      "C:\\Users\\LENOVO\\AppData\\Local\\Temp\\ipykernel_24264\\3545600592.py:1: SyntaxWarning: invalid escape sequence '\\P'\n",
      "  booking = pd.read_csv(\"D:\\Project_Room\\Data\\Bookings.csv\")\n"
     ]
    }
   ],
   "source": [
    "booking = pd.read_csv(\"D:\\Project_Room\\Data\\Bookings.csv\")\n",
    "print(f'{booking.head()}\\n')\n",
    "print(f'{booking.isnull().sum()}\\n')\n",
    "print(booking.dtypes)"
   ]
  },
  {
   "cell_type": "code",
   "execution_count": 29,
   "metadata": {},
   "outputs": [],
   "source": [
    "booking['check_in'] = pd.to_datetime(booking['check_in'])\n",
    "booking['check_out'] = pd.to_datetime(booking['check_out'])\n",
    "booking['created_at'] = pd.to_datetime(booking['created_at'])"
   ]
  },
  {
   "cell_type": "code",
   "execution_count": 40,
   "metadata": {},
   "outputs": [
    {
     "data": {
      "text/plain": [
       "booking_id              int64\n",
       "customer_id             int64\n",
       "room_id                 int64\n",
       "check_in       datetime64[ns]\n",
       "check_out      datetime64[ns]\n",
       "status                 object\n",
       "created_at     datetime64[ns]\n",
       "dtype: object"
      ]
     },
     "execution_count": 40,
     "metadata": {},
     "output_type": "execute_result"
    }
   ],
   "source": [
    "booking.dtypes"
   ]
  },
  {
   "cell_type": "code",
   "execution_count": 34,
   "metadata": {},
   "outputs": [
    {
     "name": "stdout",
     "output_type": "stream",
     "text": [
      "   payment_id  booking_id  amount payment_method payment_date\n",
      "0           1        1172    1858    Credit Card   2023-12-20\n",
      "1           2        2311    1275         PayPal   2024-05-23\n",
      "2           3         651     216  Bank Transfer   2023-11-28\n",
      "3           4        3016    1407         Crypto   2024-12-28\n",
      "4           5        3516    1961         PayPal   2023-03-11\n",
      "\n",
      "payment_id         int64\n",
      "booking_id         int64\n",
      "amount             int64\n",
      "payment_method    object\n",
      "payment_date      object\n",
      "dtype: object\n",
      "\n",
      "payment_id        0\n",
      "booking_id        0\n",
      "amount            0\n",
      "payment_method    0\n",
      "payment_date      0\n",
      "dtype: int64\n"
     ]
    },
    {
     "name": "stderr",
     "output_type": "stream",
     "text": [
      "<>:1: SyntaxWarning: invalid escape sequence '\\P'\n",
      "<>:1: SyntaxWarning: invalid escape sequence '\\P'\n",
      "C:\\Users\\LENOVO\\AppData\\Local\\Temp\\ipykernel_24264\\2704592477.py:1: SyntaxWarning: invalid escape sequence '\\P'\n",
      "  Payments = pd.read_csv(\"D:\\Project_Room\\Data\\Payment.csv\")\n"
     ]
    }
   ],
   "source": [
    "Payments = pd.read_csv(\"D:\\Project_Room\\Data\\Payment.csv\")\n",
    "print(f'{Payments.head()}\\n')\n",
    "print(f'{Payments.dtypes}\\n')\n",
    "print(Payments.isnull().sum())\n"
   ]
  },
  {
   "cell_type": "code",
   "execution_count": 35,
   "metadata": {},
   "outputs": [],
   "source": [
    "Payments['payment_date'] = pd.to_datetime(Payments['payment_date'])"
   ]
  },
  {
   "cell_type": "code",
   "execution_count": 36,
   "metadata": {},
   "outputs": [
    {
     "name": "stdout",
     "output_type": "stream",
     "text": [
      "   service_id    service_name  price\n",
      "0           1       Breakfast    112\n",
      "1           2         Laundry     82\n",
      "2           3             Spa    130\n",
      "3           4             Gym     23\n",
      "4           5  Airport Pickup    124\n",
      "\n",
      "service_id       int64\n",
      "service_name    object\n",
      "price            int64\n",
      "dtype: object\n",
      "\n",
      "service_id      0\n",
      "service_name    0\n",
      "price           0\n",
      "dtype: int64\n"
     ]
    }
   ],
   "source": [
    "Service = pd.read_csv(r\"D:\\Project_Room\\Data\\Services.csv\")\n",
    "print(f'{Service.head()}\\n')\n",
    "print(f'{Service.dtypes}\\n')\n",
    "print(Service.isnull().sum())"
   ]
  },
  {
   "cell_type": "code",
   "execution_count": 37,
   "metadata": {},
   "outputs": [
    {
     "name": "stdout",
     "output_type": "stream",
     "text": [
      "   usage_id  booking_id  service_id  quantity  total_price\n",
      "0         1        4536           8         5          480\n",
      "1         2        4689           9         2          212\n",
      "2         3        4754           8         1           96\n",
      "3         4        3544           3         3          390\n",
      "4         5        3790           6         3           81\n",
      "\n",
      "usage_id       int64\n",
      "booking_id     int64\n",
      "service_id     int64\n",
      "quantity       int64\n",
      "total_price    int64\n",
      "dtype: object\n",
      "\n",
      "usage_id       0\n",
      "booking_id     0\n",
      "service_id     0\n",
      "quantity       0\n",
      "total_price    0\n",
      "dtype: int64\n"
     ]
    }
   ],
   "source": [
    "Service_Usage = pd.read_csv(r\"D:\\Project_Room\\Data\\Servide_Usage.csv\")\n",
    "print(f'{Service_Usage.head()}\\n')\n",
    "print(f'{Service_Usage.dtypes}\\n')\n",
    "print(Service_Usage.isnull().sum())"
   ]
  },
  {
   "cell_type": "code",
   "execution_count": null,
   "metadata": {},
   "outputs": [
    {
     "data": {
      "text/plain": [
       "296"
      ]
     },
     "execution_count": 46,
     "metadata": {},
     "output_type": "execute_result"
    }
   ],
   "source": [
    "server = 'LAPTOP-8C8LM3ED'\n",
    "database = 'MY_PROJECT'\n",
    "\n",
    "engine = create_engine(f'mssql+pyodbc://@{server}/{database}?driver=ODBC+Driver+17+for+SQL+Server&trusted_connection=yes')\n",
    "\n",
    "# Đẩy dữ liệu vào SQL Server\n",
    "data.to_sql('Customer', con=engine, if_exists='append', index=False)\n",
    "room.to_sql('Room', con=engine, if_exists='append', index=False)\n",
    "booking.to_sql('Booking', con=engine, if_exists='append', index=False)\n",
    "Payments.to_sql('Payments', con=engine, if_exists='append', index=False)\n",
    "Service.to_sql('Service', con=engine, if_exists='append', index=False)\n",
    "Service_Usage.to_sql('Services_Usage', con=engine, if_exists='append', index=False)"
   ]
  }
 ],
 "metadata": {
  "kernelspec": {
   "display_name": "base",
   "language": "python",
   "name": "python3"
  },
  "language_info": {
   "codemirror_mode": {
    "name": "ipython",
    "version": 3
   },
   "file_extension": ".py",
   "mimetype": "text/x-python",
   "name": "python",
   "nbconvert_exporter": "python",
   "pygments_lexer": "ipython3",
   "version": "3.12.7"
  }
 },
 "nbformat": 4,
 "nbformat_minor": 2
}
